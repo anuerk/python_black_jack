{
 "cells": [
  {
   "cell_type": "markdown",
   "metadata": {},
   "source": [
    "# Spiel starten"
   ]
  },
  {
   "cell_type": "code",
   "execution_count": 1,
   "metadata": {},
   "outputs": [
    {
     "name": "stdout",
     "output_type": "stream",
     "text": [
      "spieler\n"
     ]
    }
   ],
   "source": [
    "print( \"spieler\")"
   ]
  },
  {
   "cell_type": "code",
   "execution_count": 2,
   "metadata": {},
   "outputs": [
    {
     "ename": "TypeError",
     "evalue": "__init__() takes 1 positional argument but 3 were given",
     "output_type": "error",
     "traceback": [
      "\u001b[1;31m---------------------------------------------------------------------------\u001b[0m",
      "\u001b[1;31mTypeError\u001b[0m                                 Traceback (most recent call last)",
      "\u001b[1;32m<ipython-input-2-f95c163f9306>\u001b[0m in \u001b[0;36m<module>\u001b[1;34m\u001b[0m\n\u001b[0;32m      1\u001b[0m \u001b[1;32mfrom\u001b[0m \u001b[0mgame_sources\u001b[0m \u001b[1;32mimport\u001b[0m \u001b[0mGame\u001b[0m\u001b[1;33m\u001b[0m\u001b[1;33m\u001b[0m\u001b[0m\n\u001b[0;32m      2\u001b[0m \u001b[1;33m\u001b[0m\u001b[0m\n\u001b[1;32m----> 3\u001b[1;33m \u001b[0mblack_jack\u001b[0m \u001b[1;33m=\u001b[0m \u001b[0mGame\u001b[0m\u001b[1;33m(\u001b[0m\u001b[1;36m4\u001b[0m\u001b[1;33m,\u001b[0m \u001b[1;34m\"BlackJack\"\u001b[0m\u001b[1;33m)\u001b[0m\u001b[1;33m\u001b[0m\u001b[1;33m\u001b[0m\u001b[0m\n\u001b[0m",
      "\u001b[1;31mTypeError\u001b[0m: __init__() takes 1 positional argument but 3 were given"
     ]
    }
   ],
   "source": [
    "from game_sources import Game\n",
    "\n",
    "black_jack = Game(number_of_player=4, game=\"BlackJack\")"
   ]
  },
  {
   "cell_type": "code",
   "execution_count": 1,
   "metadata": {},
   "outputs": [
    {
     "name": "stdin",
     "output_type": "stream",
     "text": [
      "How many (human) players? 2\n",
      "Please insert player name al\n",
      "Please insert player name jey\n"
     ]
    },
    {
     "name": "stdout",
     "output_type": "stream",
     "text": [
      "Dealer has picked Card (Kreuz, 8, 8 )  todo\n",
      "al has picked Card (Pik, 3, 3 )  todo\n",
      "jey has picked Card (Pik, 11, Ass )  todo\n",
      "al's turn. Current cards: [Card (Pik, 3, 3 )  todo]\n"
     ]
    },
    {
     "name": "stdin",
     "output_type": "stream",
     "text": [
      "new card? (yes or now) yes\n"
     ]
    },
    {
     "name": "stdout",
     "output_type": "stream",
     "text": [
      "you have picked Card (Caro, 3, 3 )  todo\n",
      "jey's turn. Current cards: [Card (Pik, 11, Ass )  todo]\n"
     ]
    },
    {
     "name": "stdin",
     "output_type": "stream",
     "text": [
      "new card? (yes or now) yes\n"
     ]
    },
    {
     "name": "stdout",
     "output_type": "stream",
     "text": [
      "you have picked Card (Herz, 7, 7 )  todo\n",
      "al's turn. Current cards: [Card (Pik, 3, 3 )  todo, Card (Caro, 3, 3 )  todo]\n"
     ]
    },
    {
     "name": "stdin",
     "output_type": "stream",
     "text": [
      "new card? (yes or now) yes\n"
     ]
    },
    {
     "name": "stdout",
     "output_type": "stream",
     "text": [
      "you have picked Card (Kreuz, 10, 10 )  todo\n",
      "jey's turn. Current cards: [Card (Pik, 11, Ass )  todo, Card (Herz, 7, 7 )  todo]\n"
     ]
    },
    {
     "name": "stdin",
     "output_type": "stream",
     "text": [
      "new card? (yes or now) yes\n"
     ]
    },
    {
     "name": "stdout",
     "output_type": "stream",
     "text": [
      "you have picked Card (Herz, 8, 8 )  todo\n",
      "al's turn. Current cards: [Card (Pik, 3, 3 )  todo, Card (Caro, 3, 3 )  todo, Card (Kreuz, 10, 10 )  todo]\n"
     ]
    },
    {
     "name": "stdin",
     "output_type": "stream",
     "text": [
      "new card? (yes or now) no\n"
     ]
    },
    {
     "name": "stdout",
     "output_type": "stream",
     "text": [
      "hole card is Card (Kreuz, 9, 9 )  todo\n",
      "And the winner is Dealer  - 17\n"
     ]
    }
   ],
   "source": [
    "# only vs dealer\n",
    "from game_sources import Player, Deck, Card, Game\n",
    "\n",
    "player_count = int(input('How many (human) players?'))  # todo input validation\n",
    "\n",
    "# initialise players\n",
    "players = []\n",
    "players.append(Player(\"Dealer\", dealer=True))\n",
    "\n",
    "for _ in range(0, player_count):\n",
    "    players.append(Player(input('Please insert player name')))\n",
    "    \n",
    "# create card deck and mix\n",
    "game_cards = Deck(card_count_total=52)\n",
    "game_cards.mix_deck()\n",
    "\n",
    "# let's start the game :)\n",
    "black_jack = Game(4, \"BlackJack\")\n",
    "\n",
    "# first card for all players - public\n",
    "for current_player in players:\n",
    "    new_card = game_cards.take_top_card_from_deck()\n",
    "    current_player.take_card(new_card) \n",
    "    print(current_player.get_name, \"has picked\", new_card)\n",
    "\n",
    "hole_card = game_cards.take_top_card_from_deck()\n",
    "players[0].take_card(hole_card)\n",
    "\n",
    "game_active = True\n",
    "while game_active:\n",
    "    for current_player in players:  \n",
    "        if current_player.is_active and current_player.is_dealer == False:  # human player logic\n",
    "            print(current_player.get_name, \"'s turn. Current cards: \", current_player.cards, sep=\"\")  # todo: hide current cards for unauthorized user and display \"nice\" values\n",
    "            player_decision = input(\"new card? (yes or now)\").lower()  # todo: maybe cursiv text in brackets  \n",
    "            # currently only Stand or hit - todo spilt double Insurance \n",
    "            if player_decision == \"no\":  \n",
    "                current_player.set_player_mode(False)\n",
    "            elif player_decision == \"yes\":\n",
    "                new_card = game_cards.take_top_card_from_deck()\n",
    "                current_player.take_card(new_card) \n",
    "                print(\"you have picked\", new_card)  # todo visualisation of card        \n",
    "            if current_player.get_score > 21: # already lost?\n",
    "                current_player.set_player_mode(False)\n",
    "     \n",
    "    # do we need a new round?            \n",
    "    if black_jack.all_human_players_finished():\n",
    "        game_active = False\n",
    "        \n",
    "# print game_end (highscore table - todo)\n",
    "print(\"hole card is\", hole_card)\n",
    "winner = black_jack.get_winning_player()\n",
    "print(\"And the winner is\", winner[0], \" -\", winner[1])\n",
    "\n",
    "# todo: \n",
    "# ass 11 oder 1 :/\n",
    "# untentschieden - dealer gewinnt\n",
    "# dealer zählt anders\n",
    "# einsatz\n",
    "# cheat_modus - kartenzählen \n",
    "# docstring\n",
    "# input validation\n",
    "# todo repr umbau, dass instanzierung möglich ist\n",
    "# card aufbau (tuple) string int, etc\n",
    "# user names not euql\n",
    "# ausgabe von aktuelle karten eigentlich überflüssig\n",
    "# prüfen von karten deck (semantisch ;)\n",
    "#\n",
    "# 19.04.\n",
    "# starten als terminal applikation\n",
    "# intitial - regel anzeigen? ja oder nein\n",
    "\n",
    "# ToDo:\n",
    "# Andre: umbau auf sublime + \"bye - quit\"\n",
    "# alex: - unteschieden - 21\n",
    "# primär gegen computer - (random choice) ziehe 2 karten spielen - computer = dealer\n",
    "# ich die Plätze für bis zu sieben Spieler \n",
    "#zu 52 Blatt, also 312 Karten gespielt \n",
    "# mehr als 21 bust\n",
    "# black jack ist entweder Ass + 10 \n"
   ]
  },
  {
   "cell_type": "code",
   "execution_count": null,
   "metadata": {},
   "outputs": [],
   "source": []
  }
 ],
 "metadata": {
  "kernelspec": {
   "display_name": "Python 3",
   "language": "python",
   "name": "python3"
  },
  "language_info": {
   "codemirror_mode": {
    "name": "ipython",
    "version": 3
   },
   "file_extension": ".py",
   "mimetype": "text/x-python",
   "name": "python",
   "nbconvert_exporter": "python",
   "pygments_lexer": "ipython3",
   "version": "3.8.5"
  }
 },
 "nbformat": 4,
 "nbformat_minor": 4
}
