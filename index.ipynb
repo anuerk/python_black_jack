{
 "cells": [
  {
   "cell_type": "markdown",
   "metadata": {},
   "source": [
    "# Spiel starten"
   ]
  },
  {
   "cell_type": "code",
   "execution_count": 1,
   "metadata": {},
   "outputs": [
    {
     "name": "stdout",
     "output_type": "stream",
     "text": [
      "spieler\n"
     ]
    }
   ],
   "source": [
    "print( \"spieler\")"
   ]
  },
  {
   "cell_type": "code",
   "execution_count": null,
   "metadata": {},
   "outputs": [
    {
     "name": "stdout",
     "output_type": "stream",
     "text": [
      "\n"
     ]
    },
    {
     "name": "stdin",
     "output_type": "stream",
     "text": [
      "How many people want to play?  g\n"
     ]
    },
    {
     "name": "stdout",
     "output_type": "stream",
     "text": [
      "Please insert a number (1 - 7)\n"
     ]
    },
    {
     "name": "stdin",
     "output_type": "stream",
     "text": [
      "How many people want to play?  2\n",
      "Please insert player name:  al\n",
      "Please insert player name:  yes\n"
     ]
    },
    {
     "name": "stdout",
     "output_type": "stream",
     "text": [
      "\n",
      "Dealer has picked the HOLE CARD and PIKE 3\n",
      "al has picked the HOLE CARD and TILE 2\n",
      "yes has picked the HOLE CARD and HEART JACK\n",
      "Dealer has picked the HOLE CARD and CLOVER QUEEN\n",
      "al has picked the HOLE CARD and CLOVER 4\n",
      "yes has picked the HOLE CARD and TILE 10\n",
      "\n",
      "al it is your turn. Current cards: ['TILE 2', 'CLOVER 4']\n"
     ]
    }
   ],
   "source": [
    "from game_sources import Game\n",
    "black_jack = Game(game=\"BlackJack\")"
   ]
  },
  {
   "cell_type": "code",
   "execution_count": 1,
   "metadata": {},
   "outputs": [
    {
     "name": "stdin",
     "output_type": "stream",
     "text": [
      "How many (human) players? 2\n",
      "Please insert player name al\n",
      "Please insert player name jey\n"
     ]
    },
    {
     "name": "stdout",
     "output_type": "stream",
     "text": [
      "Dealer has picked Card (Kreuz, 8, 8 )  todo\n",
      "al has picked Card (Pik, 3, 3 )  todo\n",
      "jey has picked Card (Pik, 11, Ass )  todo\n",
      "al's turn. Current cards: [Card (Pik, 3, 3 )  todo]\n"
     ]
    },
    {
     "name": "stdin",
     "output_type": "stream",
     "text": [
      "new card? (yes or now) yes\n"
     ]
    },
    {
     "name": "stdout",
     "output_type": "stream",
     "text": [
      "you have picked Card (Caro, 3, 3 )  todo\n",
      "jey's turn. Current cards: [Card (Pik, 11, Ass )  todo]\n"
     ]
    },
    {
     "name": "stdin",
     "output_type": "stream",
     "text": [
      "new card? (yes or now) yes\n"
     ]
    },
    {
     "name": "stdout",
     "output_type": "stream",
     "text": [
      "you have picked Card (Herz, 7, 7 )  todo\n",
      "al's turn. Current cards: [Card (Pik, 3, 3 )  todo, Card (Caro, 3, 3 )  todo]\n"
     ]
    },
    {
     "name": "stdin",
     "output_type": "stream",
     "text": [
      "new card? (yes or now) yes\n"
     ]
    },
    {
     "name": "stdout",
     "output_type": "stream",
     "text": [
      "you have picked Card (Kreuz, 10, 10 )  todo\n",
      "jey's turn. Current cards: [Card (Pik, 11, Ass )  todo, Card (Herz, 7, 7 )  todo]\n"
     ]
    },
    {
     "name": "stdin",
     "output_type": "stream",
     "text": [
      "new card? (yes or now) yes\n"
     ]
    },
    {
     "name": "stdout",
     "output_type": "stream",
     "text": [
      "you have picked Card (Herz, 8, 8 )  todo\n",
      "al's turn. Current cards: [Card (Pik, 3, 3 )  todo, Card (Caro, 3, 3 )  todo, Card (Kreuz, 10, 10 )  todo]\n"
     ]
    },
    {
     "name": "stdin",
     "output_type": "stream",
     "text": [
      "new card? (yes or now) no\n"
     ]
    },
    {
     "name": "stdout",
     "output_type": "stream",
     "text": [
      "hole card is Card (Kreuz, 9, 9 )  todo\n",
      "And the winner is Dealer  - 17\n"
     ]
    }
   ],
   "source": [
    "# Todo: \n",
    "\n",
    "#Geld Eisatz\n",
    "\n",
    "# dealer zählt anders + dealer name nicht möglich\n",
    "# input validation\n",
    "# todo repr umbau, dass instanzierung möglich ist\n",
    "# card aufbau (tuple) string int, etc\n",
    "# user names not euql\n",
    "# prüfen von karten deck (semantisch ;)\n",
    "# intitial - regel anzeigen? ja oder nein \n",
    "# black jack ist entweder Ass + 10\n",
    "\n",
    "# todo: \n",
    "# einsatz einbauen + gewinn verteilung\n",
    "# bis zu sieben Spieler + input validation für user anzahl (nur int)\n",
    "# 6 decks - 52 Blatt, also 312 Karten gespielt \n",
    "\n",
    "# final score ermitteln:\n",
    "\n",
    "# print_final_score()\n",
    "## black jack ist besser als normale 21\n",
    "## untentschieden - dealer gewinnt\n",
    "\n",
    "# nice to have\n",
    "## todo repr umbau, dass instanzierung möglich ist\n",
    "## cheat_modus - kartenzählen \n",
    "## docstring\n",
    "## weitere optionen split, double, insurance https://www.bettingexpert.com/de/casino/blackjack/regeln\n"
   ]
  },
  {
   "cell_type": "code",
   "execution_count": null,
   "metadata": {},
   "outputs": [],
   "source": []
  }
 ],
 "metadata": {
  "kernelspec": {
   "display_name": "Python 3",
   "language": "python",
   "name": "python3"
  },
  "language_info": {
   "codemirror_mode": {
    "name": "ipython",
    "version": 3
   },
   "file_extension": ".py",
   "mimetype": "text/x-python",
   "name": "python",
   "nbconvert_exporter": "python",
   "pygments_lexer": "ipython3",
   "version": "3.8.5"
  }
 },
 "nbformat": 4,
 "nbformat_minor": 4
}
