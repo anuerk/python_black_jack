{
 "cells": [
  {
   "cell_type": "markdown",
   "metadata": {},
   "source": [
    "# Spiel starten"
   ]
  },
  {
   "cell_type": "code",
   "execution_count": 2,
   "metadata": {},
   "outputs": [
    {
     "name": "stdout",
     "output_type": "stream",
     "text": [
      "spieler\n"
     ]
    }
   ],
   "source": [
    "print( \"spieler\")"
   ]
  },
  {
   "cell_type": "code",
   "execution_count": 3,
   "metadata": {},
   "outputs": [
    {
     "name": "stdout",
     "output_type": "stream",
     "text": [
      "\n"
     ]
    },
    {
     "name": "stdin",
     "output_type": "stream",
     "text": [
      "How many people want to play?  2\n",
      "Please insert player name:  al\n",
      "Please insert player name:  jey\n"
     ]
    },
    {
     "name": "stdout",
     "output_type": "stream",
     "text": [
      "\n",
      "Dealer has picked the HOLE CARD and TILE JACK\n",
      "al has picked the HOLE CARD and HEART KING\n",
      "jey has picked the HOLE CARD and HEART QUEEN\n",
      "Dealer has picked the HOLE CARD and CLOVER 5\n",
      "al has picked the HOLE CARD and CLOVER JACK\n",
      "jey has picked the HOLE CARD and TILE 2\n",
      "\n",
      "al it is your turn. Current cards: ['HEART KING', 'CLOVER JACK']\n"
     ]
    },
    {
     "name": "stdin",
     "output_type": "stream",
     "text": [
      "Do you want a new card? (yes or no)  y\n"
     ]
    },
    {
     "name": "stdout",
     "output_type": "stream",
     "text": [
      "\n",
      "you have picked HEART 4\n",
      "\n",
      "over 21 - BUST \n",
      "jey it is your turn. Current cards: ['HEART QUEEN', 'TILE 2']\n"
     ]
    },
    {
     "name": "stdin",
     "output_type": "stream",
     "text": [
      "Do you want a new card? (yes or no)  y\n"
     ]
    },
    {
     "name": "stdout",
     "output_type": "stream",
     "text": [
      "\n",
      "you have picked PIKE ACE\n",
      "\n",
      "debug: players.fake_ace_string\n",
      "card Card (PIKE, ACE, 11 )  todo\n",
      "debug cards -> ace_one_value\n",
      "card Card (PIKE, ACE_as1, 11 )  todo\n",
      "debug: ace reduction for player :) new score: 13\n",
      "jey it is your turn. Current cards: ['HEART QUEEN', 'TILE 2', 'PIKE ACE_as1']\n"
     ]
    },
    {
     "name": "stdin",
     "output_type": "stream",
     "text": [
      "Do you want a new card? (yes or no)  y\n"
     ]
    },
    {
     "name": "stdout",
     "output_type": "stream",
     "text": [
      "\n",
      "you have picked PIKE 5\n",
      "\n",
      "jey it is your turn. Current cards: ['HEART QUEEN', 'TILE 2', 'PIKE ACE_as1', 'PIKE 5']\n"
     ]
    },
    {
     "name": "stdin",
     "output_type": "stream",
     "text": [
      "Do you want a new card? (yes or no)  n\n"
     ]
    },
    {
     "name": "stdout",
     "output_type": "stream",
     "text": [
      "\n",
      "dealer picked new card HEART 8\n",
      "|--------------------------------------------------------|\n",
      "|        ROUND FINISHED                                  |\n",
      "|                                                        |\n",
      "| Result  | Score | Name                 | Info          |\n",
      "|  LOSE y |   24  |  al                  |  BUST         |\n",
      "|  WIN 1  |   18  |  jey                 |               |\n",
      "|--------------------------------------------------------|\n"
     ]
    }
   ],
   "source": [
    "from game_sources import Game\n",
    "black_jack = Game(game=\"BlackJack\")"
   ]
  },
  {
   "cell_type": "code",
   "execution_count": 1,
   "metadata": {},
   "outputs": [
    {
     "name": "stdin",
     "output_type": "stream",
     "text": [
      "How many (human) players? 2\n",
      "Please insert player name al\n",
      "Please insert player name jey\n"
     ]
    },
    {
     "name": "stdout",
     "output_type": "stream",
     "text": [
      "Dealer has picked Card (Kreuz, 8, 8 )  todo\n",
      "al has picked Card (Pik, 3, 3 )  todo\n",
      "jey has picked Card (Pik, 11, Ass )  todo\n",
      "al's turn. Current cards: [Card (Pik, 3, 3 )  todo]\n"
     ]
    },
    {
     "name": "stdin",
     "output_type": "stream",
     "text": [
      "new card? (yes or now) yes\n"
     ]
    },
    {
     "name": "stdout",
     "output_type": "stream",
     "text": [
      "you have picked Card (Caro, 3, 3 )  todo\n",
      "jey's turn. Current cards: [Card (Pik, 11, Ass )  todo]\n"
     ]
    },
    {
     "name": "stdin",
     "output_type": "stream",
     "text": [
      "new card? (yes or now) yes\n"
     ]
    },
    {
     "name": "stdout",
     "output_type": "stream",
     "text": [
      "you have picked Card (Herz, 7, 7 )  todo\n",
      "al's turn. Current cards: [Card (Pik, 3, 3 )  todo, Card (Caro, 3, 3 )  todo]\n"
     ]
    },
    {
     "name": "stdin",
     "output_type": "stream",
     "text": [
      "new card? (yes or now) yes\n"
     ]
    },
    {
     "name": "stdout",
     "output_type": "stream",
     "text": [
      "you have picked Card (Kreuz, 10, 10 )  todo\n",
      "jey's turn. Current cards: [Card (Pik, 11, Ass )  todo, Card (Herz, 7, 7 )  todo]\n"
     ]
    },
    {
     "name": "stdin",
     "output_type": "stream",
     "text": [
      "new card? (yes or now) yes\n"
     ]
    },
    {
     "name": "stdout",
     "output_type": "stream",
     "text": [
      "you have picked Card (Herz, 8, 8 )  todo\n",
      "al's turn. Current cards: [Card (Pik, 3, 3 )  todo, Card (Caro, 3, 3 )  todo, Card (Kreuz, 10, 10 )  todo]\n"
     ]
    },
    {
     "name": "stdin",
     "output_type": "stream",
     "text": [
      "new card? (yes or now) no\n"
     ]
    },
    {
     "name": "stdout",
     "output_type": "stream",
     "text": [
      "hole card is Card (Kreuz, 9, 9 )  todo\n",
      "And the winner is Dealer  - 17\n"
     ]
    }
   ],
   "source": [
    "# Todo: \n",
    "\n",
    "# einsatz einbauen + gewinn verteilung\n",
    "# dealer zählt ander\n",
    "# todo repr umbau, dass instanzierung möglich ist\n",
    "# card aufbau (tuple) string int, etc\n",
    "# user names not euql\n",
    "# prüfen von karten deck (semantisch ;)\n",
    "# intitial - regel anzeigen? ja oder nein \n",
    "# 6 decks - 52 Blatt, also 312 Karten gespielt \n",
    "# final score ermitteln:\n",
    "# print_final_score()\n",
    "## black jack ist besser als normale 21\n",
    "## untentschieden - dealer gewinnt\n",
    "\n",
    "# nice to have\n",
    "## todo repr umbau, dass instanzierung möglich ist\n",
    "## cheat_modus - kartenzählen \n",
    "## docstring\n",
    "## weitere optionen split, double, insurance https://www.bettingexpert.com/de/casino/blackjack/regeln\n"
   ]
  },
  {
   "cell_type": "code",
   "execution_count": null,
   "metadata": {},
   "outputs": [],
   "source": []
  }
 ],
 "metadata": {
  "kernelspec": {
   "display_name": "Python 3",
   "language": "python",
   "name": "python3"
  },
  "language_info": {
   "codemirror_mode": {
    "name": "ipython",
    "version": 3
   },
   "file_extension": ".py",
   "mimetype": "text/x-python",
   "name": "python",
   "nbconvert_exporter": "python",
   "pygments_lexer": "ipython3",
   "version": "3.8.5"
  }
 },
 "nbformat": 4,
 "nbformat_minor": 4
}
