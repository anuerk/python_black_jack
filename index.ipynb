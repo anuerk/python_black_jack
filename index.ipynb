{
 "cells": [
  {
   "cell_type": "markdown",
   "metadata": {},
   "source": [
    "# Spiel starten"
   ]
  },
  {
   "cell_type": "code",
   "execution_count": 1,
   "metadata": {},
   "outputs": [
    {
     "name": "stdout",
     "output_type": "stream",
     "text": [
      "spieler\n"
     ]
    }
   ],
   "source": [
    "print( \"spieler\")"
   ]
  },
  {
   "cell_type": "code",
   "execution_count": 3,
   "metadata": {},
   "outputs": [
    {
     "name": "stdout",
     "output_type": "stream",
     "text": [
      "\n"
     ]
    },
    {
     "name": "stdin",
     "output_type": "stream",
     "text": [
      "How many people want to play?  4\n",
      "Please insert player name:  al\n",
      "Please insert player name:  jey\n",
      "Please insert player name:  dennis\n",
      "Please insert player name:  raffer\n"
     ]
    },
    {
     "name": "stdout",
     "output_type": "stream",
     "text": [
      "\n",
      "Dealer has picked the HOLE CARD and TILE 2\n",
      "al has picked the HOLE CARD and PIKE ACE\n",
      "jey has picked the HOLE CARD and PIKE 2\n",
      "dennis has picked the HOLE CARD and TILE 3\n",
      "raffer has picked the HOLE CARD and PIKE QUEEN\n",
      "Dealer has picked the HOLE CARD and HEART 3\n",
      "al has picked the HOLE CARD and CLOVER 9\n",
      "jey has picked the HOLE CARD and HEART 4\n",
      "dennis has picked the HOLE CARD and HEART ACE\n",
      "raffer has picked the HOLE CARD and PIKE 6\n",
      "\n",
      "al it is your turn. Current cards: ['PIKE ACE', 'CLOVER 9']\n"
     ]
    },
    {
     "name": "stdin",
     "output_type": "stream",
     "text": [
      "Do you want a new card? (yes or no)  y\n"
     ]
    },
    {
     "name": "stdout",
     "output_type": "stream",
     "text": [
      "\n",
      "you have picked TILE ACE\n",
      "\n",
      "jey it is your turn. Current cards: ['PIKE 2', 'HEART 4']\n"
     ]
    },
    {
     "name": "stdin",
     "output_type": "stream",
     "text": [
      "Do you want a new card? (yes or no)  y\n"
     ]
    },
    {
     "name": "stdout",
     "output_type": "stream",
     "text": [
      "\n",
      "you have picked CLOVER ACE\n",
      "\n",
      "dennis it is your turn. Current cards: ['TILE 3', 'HEART ACE']\n"
     ]
    },
    {
     "name": "stdin",
     "output_type": "stream",
     "text": [
      "Do you want a new card? (yes or no)  y\n"
     ]
    },
    {
     "name": "stdout",
     "output_type": "stream",
     "text": [
      "\n",
      "you have picked HEART 6\n",
      "\n",
      "raffer it is your turn. Current cards: ['PIKE QUEEN', 'PIKE 6']\n"
     ]
    },
    {
     "name": "stdin",
     "output_type": "stream",
     "text": [
      "Do you want a new card? (yes or no)  y\n"
     ]
    },
    {
     "name": "stdout",
     "output_type": "stream",
     "text": [
      "\n",
      "you have picked CLOVER QUEEN\n",
      "BUST - over 21\n",
      "\n",
      "al it is your turn. Current cards: ['PIKE ACE_1', 'CLOVER 9', 'TILE ACE_1']\n"
     ]
    },
    {
     "name": "stdin",
     "output_type": "stream",
     "text": [
      "Do you want a new card? (yes or no)  y\n"
     ]
    },
    {
     "name": "stdout",
     "output_type": "stream",
     "text": [
      "\n",
      "you have picked PIKE 4\n",
      "BUST - over 21\n",
      "\n",
      "jey it is your turn. Current cards: ['PIKE 2', 'HEART 4', 'CLOVER ACE']\n"
     ]
    },
    {
     "name": "stdin",
     "output_type": "stream",
     "text": [
      "Do you want a new card? (yes or no)  y\n"
     ]
    },
    {
     "name": "stdout",
     "output_type": "stream",
     "text": [
      "\n",
      "you have picked CLOVER 6\n",
      "\n",
      "dennis it is your turn. Current cards: ['TILE 3', 'HEART ACE', 'HEART 6']\n"
     ]
    },
    {
     "name": "stdin",
     "output_type": "stream",
     "text": [
      "Do you want a new card? (yes or no)  n\n"
     ]
    },
    {
     "name": "stdout",
     "output_type": "stream",
     "text": [
      "\n",
      "jey it is your turn. Current cards: ['PIKE 2', 'HEART 4', 'CLOVER ACE_1', 'CLOVER 6']\n"
     ]
    },
    {
     "name": "stdin",
     "output_type": "stream",
     "text": [
      "Do you want a new card? (yes or no)  y\n"
     ]
    },
    {
     "name": "stdout",
     "output_type": "stream",
     "text": [
      "\n",
      "you have picked TILE 5\n",
      "\n",
      "jey it is your turn. Current cards: ['PIKE 2', 'HEART 4', 'CLOVER ACE_1', 'CLOVER 6', 'TILE 5']\n"
     ]
    },
    {
     "name": "stdin",
     "output_type": "stream",
     "text": [
      "Do you want a new card? (yes or no)  n\n"
     ]
    },
    {
     "name": "stdout",
     "output_type": "stream",
     "text": [
      "\n",
      "\n",
      "dealer picked new card HEART 10\n",
      "dealer picked new card TILE 9\n",
      "|        ROUND FINISHED                                  |\n",
      "IF 176\n",
      "5\n",
      "winner counter 2\n",
      "loser counter 3\n",
      "[{'score': 26, 'name': 'raffer', 'result': 'LOSE'}, {'score': 25, 'name': 'al', 'result': 'LOSE'}, {'score': 24, 'name': 'Dealer', 'result': 'LOSE'}, {'score': 20, 'name': 'dennis', 'result': 'WINS'}, {'score': 18, 'name': 'jey', 'result': 'WINS'}]\n"
     ]
    }
   ],
   "source": [
    "from game_sources import Game\n",
    "black_jack = Game(game=\"BlackJack\")"
   ]
  }
 ],
 "metadata": {
  "kernelspec": {
   "display_name": "Python 3",
   "language": "python",
   "name": "python3"
  },
  "language_info": {
   "codemirror_mode": {
    "name": "ipython",
    "version": 3
   },
   "file_extension": ".py",
   "mimetype": "text/x-python",
   "name": "python",
   "nbconvert_exporter": "python",
   "pygments_lexer": "ipython3",
   "version": "3.8.5"
  }
 },
 "nbformat": 4,
 "nbformat_minor": 4
}
